{
 "cells": [
  {
   "cell_type": "markdown",
   "metadata": {},
   "source": [
    "# Tutorial: Using Jupyter Notebook \n",
    "\n",
    "This Jupyter Notebook session will focus on exposing economists to use industry-leading tools that will allow them to work in virtual environments to expand their data science skills. The tutorial will illustrate the relationship between Github and Jupyter, will get you working in a terminal, and will guide you in moving content from public space into your own personal workspace."
   ]
  },
  {
   "cell_type": "markdown",
   "metadata": {},
   "source": [
    "## Github Tutorial\n",
    "\n",
    "### What is Github?\n",
    "\n",
    "Github made an amazing video to briefly explain it. We would like to share it with you!\n",
    "https://youtu.be/w3jLJU7DT5E\n",
    "\n",
    "#### Step 1: Create a Github Account\n",
    "\n",
    "If you have never had a Github account, then begin by signing up here:\n",
    "https://github.com/join?source=header\n",
    "\n",
    "If you have already had a Github account, you can skip the previous step:\n",
    "https://github.com\n",
    "\n",
    "Enter your email and password to login.\n",
    "\n",
    "#### Step 2: Clone a Repository from Github\n",
    "\n",
    "1. Go to the Jupyter Notebook home page.\n",
    "![home button](Home.png)\n",
    "2. Open a Terminal in Jupyter Notebook.\n",
    "![open terminal](Terminal.png)\n",
    "3. Create an \"ACE_592\" folder for homework by typing \"mkdir ACE_592\".\n",
    "![create folder](Makedir.png)\n",
    "4. type \"cd ACE_592\" to enter the folder.\n",
    "5. type \"git clone https://github.com/uiuc-bdeep/ACE_592_Notebooks.git\".\n",
    "6. Now you will be able to access the homework.\n",
    "\n",
    "#### Step 3: More videos if you want to learn more about Github\n",
    "\n",
    "Basic Concepts and usage for Github: https://youtu.be/ihKRRWBVn5k\n",
    "A LONG video for beginners: https://www.youtube.com/watch?v=Z9fIBT2NBGY\n"
   ]
  },
  {
   "cell_type": "markdown",
   "metadata": {},
   "source": [
    "## Shared Folder Tutorial\n",
    "\n"
   ]
  },
  {
   "cell_type": "markdown",
   "metadata": {
    "collapsed": true
   },
   "source": [
    "### Using the Shared Folder in Jupyter Notebook System\n",
    "\n",
    "You can also simply use the file system directly within the Jupyter Notebook using a terminal operation. This requires the folder is already mounted on your local file system. \n",
    "\n",
    "#### Step 1: Open a Terminal in Jupyter Notebook.\n",
    "\n",
    "![open terminal](Terminal.png)\n",
    "\n",
    "#### Step 2: Copy the file from \"public_space\" into your local folder (or called home folder)\n",
    "\n",
    "Make sure you have NOT create this folder, otherwise you can skip this step\n",
    "\n",
    "![create folder](Makedir.png)\n",
    "\n",
    "![copy folder 1](copy1.png)\n",
    "\n",
    "![copy folder 2](copy2.png)\n",
    "\n",
    "Then the folder will appear on your home directory\n",
    "\n",
    "![copy folder 3](copy3.png)\n"
   ]
  },
  {
   "cell_type": "code",
   "execution_count": null,
   "metadata": {
    "collapsed": true
   },
   "outputs": [],
   "source": []
  }
 ],
 "metadata": {
  "kernelspec": {
   "display_name": "R",
   "language": "R",
   "name": "ir"
  },
  "language_info": {
   "codemirror_mode": "r",
   "file_extension": ".r",
   "mimetype": "text/x-r-source",
   "name": "R",
   "pygments_lexer": "r",
   "version": "3.3.2"
  }
 },
 "nbformat": 4,
 "nbformat_minor": 2
}
